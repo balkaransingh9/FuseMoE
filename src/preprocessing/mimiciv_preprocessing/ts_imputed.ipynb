{
 "cells": [
  {
   "cell_type": "code",
   "execution_count": 1,
   "metadata": {},
   "outputs": [],
   "source": [
    "# autoreload\n",
    "%load_ext autoreload\n",
    "%autoreload 2"
   ]
  },
  {
   "cell_type": "code",
   "execution_count": 2,
   "metadata": {},
   "outputs": [],
   "source": [
    "import os\n",
    "import sys\n",
    "import numpy as np\n",
    "import pandas as pd\n",
    "from tqdm import tqdm"
   ]
  },
  {
   "cell_type": "code",
   "execution_count": 3,
   "metadata": {},
   "outputs": [],
   "source": [
    "mimic_iv_path = \"/cis/home/charr165/Documents/physionet.org/mimiciv/2.2\"\n",
    "mm_dir = \"/cis/home/charr165/Documents/multimodal\"\n",
    "\n",
    "output_dir = os.path.join(mm_dir, \"preprocessing\")\n",
    "os.makedirs(output_dir, exist_ok=True)"
   ]
  },
  {
   "cell_type": "code",
   "execution_count": 4,
   "metadata": {},
   "outputs": [],
   "source": [
    "mm_dir = \"/cis/home/charr165/Documents/multimodal\"\n",
    "output_dir = os.path.join(mm_dir, \"preprocessing\")\n",
    "\n",
    "# vitals_ts_df = pd.read_pickle(os.path.join(output_dir, \"ts_vitals_icu.pkl\"))\n",
    "# procedureevents_ts_df = pd.read_pickle(os.path.join(output_dir, \"ts_procedureevents_icu.pkl\"))\n",
    "# ts_labs_icu = pd.read_pickle(os.path.join(output_dir, \"ts_labs_icu.pkl\"))\n",
    "\n",
    "# labs_vitals_ts_df = pd.read_pickle(os.path.join(output_dir, \"ts_labs_vitals_icu.pkl\"))\n",
    "labs_vitals_ts_df = pd.read_pickle(os.path.join(output_dir, \"ts_labs_vitals.pkl\"))\n",
    "labs_vitals_ts_df = labs_vitals_ts_df[labs_vitals_ts_df['icu_time_delta'] > 0]\n",
    "labs_vitals_ts_df.drop(columns=['hosp_time_delta'], inplace=True)\n",
    "labs_vitals_ts_df.rename(columns={'icu_time_delta': 'timedelta'}, inplace=True)"
   ]
  },
  {
   "cell_type": "code",
   "execution_count": 5,
   "metadata": {},
   "outputs": [
    {
     "name": "stderr",
     "output_type": "stream",
     "text": [
      "100%|██████████| 73171/73171 [07:17<00:00, 167.20it/s]\n"
     ]
    }
   ],
   "source": [
    "def impute_values_optimized(df):\n",
    "    interval_length = 1\n",
    "    global_means = df.mean()\n",
    "    grouped = df.groupby('stay_id')\n",
    "\n",
    "    all_stays_imputed = []\n",
    "\n",
    "    for stay_id, group in tqdm(grouped):\n",
    "        group = group.copy()\n",
    "        \n",
    "        group['time_interval'] = (group['timedelta'] / interval_length).astype(int)\n",
    "\n",
    "        curr_stay_imputed = group.groupby('time_interval').last()\n",
    "\n",
    "        curr_stay_imputed = curr_stay_imputed.reindex(range(curr_stay_imputed.index.max() + 1)).ffill()\n",
    "        curr_stay_imputed['timedelta'] = curr_stay_imputed.index * interval_length\n",
    "        curr_stay_imputed.fillna(global_means, inplace=True)\n",
    "\n",
    "        all_stays_imputed.append(curr_stay_imputed)\n",
    "\n",
    "    imputed_df = pd.concat(all_stays_imputed, axis=0, ignore_index=True)\n",
    "\n",
    "    return imputed_df\n",
    "\n",
    "# imputed_vitals = impute_values_optimized(vitals_ts_df)\n",
    "imputed_labs_vitals = impute_values_optimized(labs_vitals_ts_df)\n"
   ]
  },
  {
   "cell_type": "code",
   "execution_count": 6,
   "metadata": {},
   "outputs": [],
   "source": [
    "# imputed_labs_vitals.to_pickle(os.path.join(output_dir, \"imputed_ts_labs_vitals_icu.pkl\"))\n",
    "imputed_labs_vitals.to_pickle(os.path.join(output_dir, \"imputed_ts_labs_vitals.pkl\"))\n",
    "# imputed_vitals.to_pickle(os.path.join(output_dir, \"imputed_ts_vitals_icu.pkl\"))"
   ]
  }
 ],
 "metadata": {
  "kernelspec": {
   "display_name": ".venv",
   "language": "python",
   "name": "python3"
  },
  "language_info": {
   "codemirror_mode": {
    "name": "ipython",
    "version": 3
   },
   "file_extension": ".py",
   "mimetype": "text/x-python",
   "name": "python",
   "nbconvert_exporter": "python",
   "pygments_lexer": "ipython3",
   "version": "3.10.12"
  }
 },
 "nbformat": 4,
 "nbformat_minor": 2
}
