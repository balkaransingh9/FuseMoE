{
 "cells": [
  {
   "cell_type": "code",
   "execution_count": 1,
   "metadata": {},
   "outputs": [],
   "source": [
    "# autoreload\n",
    "%load_ext autoreload\n",
    "%autoreload 2"
   ]
  },
  {
   "cell_type": "code",
   "execution_count": 2,
   "metadata": {},
   "outputs": [],
   "source": [
    "import os\n",
    "import sys\n",
    "import numpy as np\n",
    "import pandas as pd\n",
    "from sklearn.preprocessing import StandardScaler\n",
    "from tqdm import tqdm\n",
    "from npj_utils import *\n",
    "from sklearn.multioutput import MultiOutputClassifier\n",
    "import xgboost as xgb"
   ]
  },
  {
   "cell_type": "code",
   "execution_count": 3,
   "metadata": {},
   "outputs": [],
   "source": [
    "mimic_iv_path = \"/cis/home/charr165/Documents/physionet.org/mimiciv/2.2\"\n",
    "mm_dir = \"/cis/home/charr165/Documents/multimodal\"\n",
    "\n",
    "output_dir = os.path.join(mm_dir, \"preprocessing\")"
   ]
  },
  {
   "cell_type": "code",
   "execution_count": 5,
   "metadata": {},
   "outputs": [],
   "source": [
    "import pickle\n",
    "\n",
    "base_name = \"pheno\" # ihm, los, pheno\n",
    "\n",
    "if \"pheno\" in base_name:\n",
    "    base_name += \"-all\"\n",
    "else:\n",
    "    base_name += \"-48\"\n",
    "\n",
    "base_name += \"-cxr-notes-ecg\"\n",
    "\n",
    "f_path = os.path.join(output_dir, f\"train_{base_name}_stays.pkl\")\n",
    "\n",
    "with open(f_path, \"rb\") as f:\n",
    "    train_stays = pickle.load(f)\n",
    "\n",
    "f_path = os.path.join(output_dir, f\"val_{base_name}_stays.pkl\")\n",
    "\n",
    "with open(f_path, \"rb\") as f:\n",
    "    val_stays = pickle.load(f)\n",
    "\n",
    "f_path = os.path.join(output_dir, f\"test_{base_name}_stays.pkl\")\n",
    "\n",
    "with open(f_path, \"rb\") as f:\n",
    "    test_stays = pickle.load(f)"
   ]
  },
  {
   "cell_type": "code",
   "execution_count": 6,
   "metadata": {},
   "outputs": [],
   "source": [
    "include_notes = True\n",
    "include_cxr = False\n",
    "include_ecg = False"
   ]
  },
  {
   "cell_type": "code",
   "execution_count": 7,
   "metadata": {},
   "outputs": [
    {
     "name": "stderr",
     "output_type": "stream",
     "text": [
      "Calculating Time Series Embeddings:   0%|          | 0/6349 [00:00<?, ?it/s]"
     ]
    },
    {
     "name": "stderr",
     "output_type": "stream",
     "text": [
      "Calculating Time Series Embeddings: 100%|██████████| 6349/6349 [00:42<00:00, 149.37it/s]\n",
      "Calculating Text Embeddings:   0%|          | 0/6349 [00:00<?, ?it/s]/cis/home/charr165/vscode_projects/HAIM/.venv/lib/python3.10/site-packages/numpy/core/fromnumeric.py:3504: RuntimeWarning: Mean of empty slice.\n",
      "  return _methods._mean(a, axis=axis, dtype=dtype,\n",
      "/cis/home/charr165/vscode_projects/HAIM/.venv/lib/python3.10/site-packages/numpy/core/_methods.py:121: RuntimeWarning: invalid value encountered in divide\n",
      "  ret = um.true_divide(\n",
      "/cis/home/charr165/vscode_projects/HAIM/npj_utils.py:78: FutureWarning: The behavior of DataFrame concatenation with empty or all-NA entries is deprecated. In a future version, this will no longer exclude empty or all-NA columns when determining the result dtypes. To retain the old behavior, exclude the relevant entries before the concat operation.\n",
      "  df = pd.concat([df, curr_df], axis=0, ignore_index=True)\n",
      "Calculating Text Embeddings: 100%|██████████| 6349/6349 [00:08<00:00, 737.79it/s] \n"
     ]
    }
   ],
   "source": [
    "X_train = calc_ts_embeddings(train_stays)\n",
    "\n",
    "if include_notes:\n",
    "    txt_df = calc_avg_text_embedding(train_stays)\n",
    "    X_train = pd.concat([X_train, txt_df], axis=1)\n",
    "\n",
    "if include_cxr:\n",
    "    cxr_df = calc_avg_cxr_embedding(train_stays)\n",
    "    X_train = pd.concat([X_train, cxr_df], axis=1)\n",
    "\n",
    "if include_ecg:\n",
    "    ecg_df = calc_avg_ecg_embedding(train_stays)\n",
    "    X_train = pd.concat([X_train, ecg_df], axis=1)\n",
    "\n",
    "y_train = extract_labels(train_stays)\n",
    "\n",
    "col_names = X_train.columns"
   ]
  },
  {
   "cell_type": "code",
   "execution_count": 8,
   "metadata": {},
   "outputs": [
    {
     "name": "stderr",
     "output_type": "stream",
     "text": [
      "Calculating Time Series Embeddings: 100%|██████████| 1361/1361 [00:08<00:00, 151.64it/s]\n",
      "Calculating Text Embeddings:   0%|          | 0/1361 [00:00<?, ?it/s]/cis/home/charr165/vscode_projects/HAIM/.venv/lib/python3.10/site-packages/numpy/core/fromnumeric.py:3504: RuntimeWarning: Mean of empty slice.\n",
      "  return _methods._mean(a, axis=axis, dtype=dtype,\n",
      "/cis/home/charr165/vscode_projects/HAIM/.venv/lib/python3.10/site-packages/numpy/core/_methods.py:121: RuntimeWarning: invalid value encountered in divide\n",
      "  ret = um.true_divide(\n",
      "/cis/home/charr165/vscode_projects/HAIM/npj_utils.py:78: FutureWarning: The behavior of DataFrame concatenation with empty or all-NA entries is deprecated. In a future version, this will no longer exclude empty or all-NA columns when determining the result dtypes. To retain the old behavior, exclude the relevant entries before the concat operation.\n",
      "  df = pd.concat([df, curr_df], axis=0, ignore_index=True)\n",
      "Calculating Text Embeddings: 100%|██████████| 1361/1361 [00:00<00:00, 3666.35it/s]\n"
     ]
    }
   ],
   "source": [
    "X_test = calc_ts_embeddings(test_stays)\n",
    "\n",
    "if include_notes:\n",
    "    txt_df = calc_avg_text_embedding(test_stays)\n",
    "    X_test = pd.concat([X_test, txt_df], axis=1)\n",
    "\n",
    "if include_cxr:\n",
    "    cxr_df = calc_avg_cxr_embedding(test_stays)\n",
    "    X_test = pd.concat([X_test, cxr_df], axis=1)\n",
    "\n",
    "if include_ecg:\n",
    "    ecg_df = calc_avg_ecg_embedding(test_stays)\n",
    "    X_test = pd.concat([X_test, ecg_df], axis=1)\n",
    "\n",
    "y_test = extract_labels(test_stays)"
   ]
  },
  {
   "cell_type": "code",
   "execution_count": 9,
   "metadata": {},
   "outputs": [
    {
     "name": "stderr",
     "output_type": "stream",
     "text": [
      "Calculating Time Series Embeddings: 100%|██████████| 1360/1360 [00:09<00:00, 150.35it/s]\n",
      "Calculating Text Embeddings:   0%|          | 0/1360 [00:00<?, ?it/s]/cis/home/charr165/vscode_projects/HAIM/.venv/lib/python3.10/site-packages/numpy/core/fromnumeric.py:3504: RuntimeWarning: Mean of empty slice.\n",
      "  return _methods._mean(a, axis=axis, dtype=dtype,\n",
      "/cis/home/charr165/vscode_projects/HAIM/.venv/lib/python3.10/site-packages/numpy/core/_methods.py:121: RuntimeWarning: invalid value encountered in divide\n",
      "  ret = um.true_divide(\n",
      "/cis/home/charr165/vscode_projects/HAIM/npj_utils.py:78: FutureWarning: The behavior of DataFrame concatenation with empty or all-NA entries is deprecated. In a future version, this will no longer exclude empty or all-NA columns when determining the result dtypes. To retain the old behavior, exclude the relevant entries before the concat operation.\n",
      "  df = pd.concat([df, curr_df], axis=0, ignore_index=True)\n",
      "Calculating Text Embeddings: 100%|██████████| 1360/1360 [00:00<00:00, 3646.15it/s]\n"
     ]
    }
   ],
   "source": [
    "X_val = calc_ts_embeddings(val_stays)\n",
    "\n",
    "if include_notes:\n",
    "    txt_df = calc_avg_text_embedding(val_stays)\n",
    "    X_val = pd.concat([X_val, txt_df], axis=1)\n",
    "\n",
    "if include_cxr:\n",
    "    cxr_df = calc_avg_cxr_embedding(val_stays)\n",
    "    X_val = pd.concat([X_val, cxr_df], axis=1)\n",
    "\n",
    "if include_ecg:\n",
    "    ecg_df = calc_avg_ecg_embedding(val_stays)\n",
    "    X_val = pd.concat([X_val, ecg_df], axis=1)\n",
    "\n",
    "y_val = extract_labels(val_stays)"
   ]
  },
  {
   "cell_type": "code",
   "execution_count": 10,
   "metadata": {},
   "outputs": [],
   "source": [
    "scaler = StandardScaler()\n",
    "X_train = scaler.fit_transform(X_train)\n",
    "X_test = scaler.transform(X_test)\n",
    "X_val = scaler.transform(X_val)"
   ]
  },
  {
   "cell_type": "code",
   "execution_count": null,
   "metadata": {},
   "outputs": [],
   "source": [
    "from prediction_util import run_xgb, run_xgb_multilabel\n",
    "\n",
    "seed = 1\n",
    "if \"pheno\" in base_name:\n",
    "    y_pred_test, y_pred_prob_test, y_pred_train, y_pred_prob_train, gs = run_xgb_multilabel(X_train, y_train, X_test, gpu=0, seed=seed, n_jobs=16)\n",
    "else:\n",
    "    y_pred_test, y_pred_prob_test, y_pred_train, y_pred_prob_train, gs = run_xgb(X_train, y_train, X_test, gpu=0, seed=seed, n_jobs=16)"
   ]
  },
  {
   "cell_type": "code",
   "execution_count": 13,
   "metadata": {},
   "outputs": [
    {
     "name": "stderr",
     "output_type": "stream",
     "text": [
      "/cis/home/charr165/vscode_projects/HAIM/.venv/lib/python3.10/site-packages/xgboost/core.py:160: UserWarning: [16:46:24] WARNING: /workspace/src/common/error_msg.cc:27: The tree method `gpu_hist` is deprecated since 2.0.0. To use GPU training, set the `device` parameter to CUDA instead.\n",
      "\n",
      "    E.g. tree_method = \"hist\", device = \"cuda\"\n",
      "\n",
      "  warnings.warn(smsg, UserWarning)\n",
      "/cis/home/charr165/vscode_projects/HAIM/.venv/lib/python3.10/site-packages/xgboost/core.py:160: UserWarning: [16:46:25] WARNING: /workspace/src/common/error_msg.cc:27: The tree method `gpu_hist` is deprecated since 2.0.0. To use GPU training, set the `device` parameter to CUDA instead.\n",
      "\n",
      "    E.g. tree_method = \"hist\", device = \"cuda\"\n",
      "\n",
      "  warnings.warn(smsg, UserWarning)\n",
      "/cis/home/charr165/vscode_projects/HAIM/.venv/lib/python3.10/site-packages/xgboost/core.py:160: UserWarning: [16:46:26] WARNING: /workspace/src/common/error_msg.cc:27: The tree method `gpu_hist` is deprecated since 2.0.0. To use GPU training, set the `device` parameter to CUDA instead.\n",
      "\n",
      "    E.g. tree_method = \"hist\", device = \"cuda\"\n",
      "\n",
      "  warnings.warn(smsg, UserWarning)\n",
      "/cis/home/charr165/vscode_projects/HAIM/.venv/lib/python3.10/site-packages/xgboost/core.py:160: UserWarning: [16:46:27] WARNING: /workspace/src/common/error_msg.cc:27: The tree method `gpu_hist` is deprecated since 2.0.0. To use GPU training, set the `device` parameter to CUDA instead.\n",
      "\n",
      "    E.g. tree_method = \"hist\", device = \"cuda\"\n",
      "\n",
      "  warnings.warn(smsg, UserWarning)\n",
      "/cis/home/charr165/vscode_projects/HAIM/.venv/lib/python3.10/site-packages/xgboost/core.py:160: UserWarning: [16:46:28] WARNING: /workspace/src/common/error_msg.cc:27: The tree method `gpu_hist` is deprecated since 2.0.0. To use GPU training, set the `device` parameter to CUDA instead.\n",
      "\n",
      "    E.g. tree_method = \"hist\", device = \"cuda\"\n",
      "\n",
      "  warnings.warn(smsg, UserWarning)\n",
      "/cis/home/charr165/vscode_projects/HAIM/.venv/lib/python3.10/site-packages/xgboost/core.py:160: UserWarning: [16:46:29] WARNING: /workspace/src/common/error_msg.cc:27: The tree method `gpu_hist` is deprecated since 2.0.0. To use GPU training, set the `device` parameter to CUDA instead.\n",
      "\n",
      "    E.g. tree_method = \"hist\", device = \"cuda\"\n",
      "\n",
      "  warnings.warn(smsg, UserWarning)\n",
      "/cis/home/charr165/vscode_projects/HAIM/.venv/lib/python3.10/site-packages/xgboost/core.py:160: UserWarning: [16:46:30] WARNING: /workspace/src/common/error_msg.cc:27: The tree method `gpu_hist` is deprecated since 2.0.0. To use GPU training, set the `device` parameter to CUDA instead.\n",
      "\n",
      "    E.g. tree_method = \"hist\", device = \"cuda\"\n",
      "\n",
      "  warnings.warn(smsg, UserWarning)\n",
      "/cis/home/charr165/vscode_projects/HAIM/.venv/lib/python3.10/site-packages/xgboost/core.py:160: UserWarning: [16:46:31] WARNING: /workspace/src/common/error_msg.cc:27: The tree method `gpu_hist` is deprecated since 2.0.0. To use GPU training, set the `device` parameter to CUDA instead.\n",
      "\n",
      "    E.g. tree_method = \"hist\", device = \"cuda\"\n",
      "\n",
      "  warnings.warn(smsg, UserWarning)\n",
      "/cis/home/charr165/vscode_projects/HAIM/.venv/lib/python3.10/site-packages/xgboost/core.py:160: UserWarning: [16:46:32] WARNING: /workspace/src/common/error_msg.cc:27: The tree method `gpu_hist` is deprecated since 2.0.0. To use GPU training, set the `device` parameter to CUDA instead.\n",
      "\n",
      "    E.g. tree_method = \"hist\", device = \"cuda\"\n",
      "\n",
      "  warnings.warn(smsg, UserWarning)\n",
      "/cis/home/charr165/vscode_projects/HAIM/.venv/lib/python3.10/site-packages/xgboost/core.py:160: UserWarning: [16:46:33] WARNING: /workspace/src/common/error_msg.cc:27: The tree method `gpu_hist` is deprecated since 2.0.0. To use GPU training, set the `device` parameter to CUDA instead.\n",
      "\n",
      "    E.g. tree_method = \"hist\", device = \"cuda\"\n",
      "\n",
      "  warnings.warn(smsg, UserWarning)\n",
      "/cis/home/charr165/vscode_projects/HAIM/.venv/lib/python3.10/site-packages/xgboost/core.py:160: UserWarning: [16:46:34] WARNING: /workspace/src/common/error_msg.cc:27: The tree method `gpu_hist` is deprecated since 2.0.0. To use GPU training, set the `device` parameter to CUDA instead.\n",
      "\n",
      "    E.g. tree_method = \"hist\", device = \"cuda\"\n",
      "\n",
      "  warnings.warn(smsg, UserWarning)\n",
      "/cis/home/charr165/vscode_projects/HAIM/.venv/lib/python3.10/site-packages/xgboost/core.py:160: UserWarning: [16:46:35] WARNING: /workspace/src/common/error_msg.cc:27: The tree method `gpu_hist` is deprecated since 2.0.0. To use GPU training, set the `device` parameter to CUDA instead.\n",
      "\n",
      "    E.g. tree_method = \"hist\", device = \"cuda\"\n",
      "\n",
      "  warnings.warn(smsg, UserWarning)\n",
      "/cis/home/charr165/vscode_projects/HAIM/.venv/lib/python3.10/site-packages/xgboost/core.py:160: UserWarning: [16:46:36] WARNING: /workspace/src/common/error_msg.cc:27: The tree method `gpu_hist` is deprecated since 2.0.0. To use GPU training, set the `device` parameter to CUDA instead.\n",
      "\n",
      "    E.g. tree_method = \"hist\", device = \"cuda\"\n",
      "\n",
      "  warnings.warn(smsg, UserWarning)\n",
      "/cis/home/charr165/vscode_projects/HAIM/.venv/lib/python3.10/site-packages/xgboost/core.py:160: UserWarning: [16:46:37] WARNING: /workspace/src/common/error_msg.cc:27: The tree method `gpu_hist` is deprecated since 2.0.0. To use GPU training, set the `device` parameter to CUDA instead.\n",
      "\n",
      "    E.g. tree_method = \"hist\", device = \"cuda\"\n",
      "\n",
      "  warnings.warn(smsg, UserWarning)\n",
      "/cis/home/charr165/vscode_projects/HAIM/.venv/lib/python3.10/site-packages/xgboost/core.py:160: UserWarning: [16:46:38] WARNING: /workspace/src/common/error_msg.cc:27: The tree method `gpu_hist` is deprecated since 2.0.0. To use GPU training, set the `device` parameter to CUDA instead.\n",
      "\n",
      "    E.g. tree_method = \"hist\", device = \"cuda\"\n",
      "\n",
      "  warnings.warn(smsg, UserWarning)\n",
      "/cis/home/charr165/vscode_projects/HAIM/.venv/lib/python3.10/site-packages/xgboost/core.py:160: UserWarning: [16:46:39] WARNING: /workspace/src/common/error_msg.cc:27: The tree method `gpu_hist` is deprecated since 2.0.0. To use GPU training, set the `device` parameter to CUDA instead.\n",
      "\n",
      "    E.g. tree_method = \"hist\", device = \"cuda\"\n",
      "\n",
      "  warnings.warn(smsg, UserWarning)\n",
      "/cis/home/charr165/vscode_projects/HAIM/.venv/lib/python3.10/site-packages/xgboost/core.py:160: UserWarning: [16:46:40] WARNING: /workspace/src/common/error_msg.cc:27: The tree method `gpu_hist` is deprecated since 2.0.0. To use GPU training, set the `device` parameter to CUDA instead.\n",
      "\n",
      "    E.g. tree_method = \"hist\", device = \"cuda\"\n",
      "\n",
      "  warnings.warn(smsg, UserWarning)\n",
      "/cis/home/charr165/vscode_projects/HAIM/.venv/lib/python3.10/site-packages/xgboost/core.py:160: UserWarning: [16:46:41] WARNING: /workspace/src/common/error_msg.cc:27: The tree method `gpu_hist` is deprecated since 2.0.0. To use GPU training, set the `device` parameter to CUDA instead.\n",
      "\n",
      "    E.g. tree_method = \"hist\", device = \"cuda\"\n",
      "\n",
      "  warnings.warn(smsg, UserWarning)\n",
      "/cis/home/charr165/vscode_projects/HAIM/.venv/lib/python3.10/site-packages/xgboost/core.py:160: UserWarning: [16:46:42] WARNING: /workspace/src/common/error_msg.cc:27: The tree method `gpu_hist` is deprecated since 2.0.0. To use GPU training, set the `device` parameter to CUDA instead.\n",
      "\n",
      "    E.g. tree_method = \"hist\", device = \"cuda\"\n",
      "\n",
      "  warnings.warn(smsg, UserWarning)\n",
      "/cis/home/charr165/vscode_projects/HAIM/.venv/lib/python3.10/site-packages/xgboost/core.py:160: UserWarning: [16:46:43] WARNING: /workspace/src/common/error_msg.cc:27: The tree method `gpu_hist` is deprecated since 2.0.0. To use GPU training, set the `device` parameter to CUDA instead.\n",
      "\n",
      "    E.g. tree_method = \"hist\", device = \"cuda\"\n",
      "\n",
      "  warnings.warn(smsg, UserWarning)\n",
      "/cis/home/charr165/vscode_projects/HAIM/.venv/lib/python3.10/site-packages/xgboost/core.py:160: UserWarning: [16:46:44] WARNING: /workspace/src/common/error_msg.cc:27: The tree method `gpu_hist` is deprecated since 2.0.0. To use GPU training, set the `device` parameter to CUDA instead.\n",
      "\n",
      "    E.g. tree_method = \"hist\", device = \"cuda\"\n",
      "\n",
      "  warnings.warn(smsg, UserWarning)\n",
      "/cis/home/charr165/vscode_projects/HAIM/.venv/lib/python3.10/site-packages/xgboost/core.py:160: UserWarning: [16:46:45] WARNING: /workspace/src/common/error_msg.cc:27: The tree method `gpu_hist` is deprecated since 2.0.0. To use GPU training, set the `device` parameter to CUDA instead.\n",
      "\n",
      "    E.g. tree_method = \"hist\", device = \"cuda\"\n",
      "\n",
      "  warnings.warn(smsg, UserWarning)\n",
      "/cis/home/charr165/vscode_projects/HAIM/.venv/lib/python3.10/site-packages/xgboost/core.py:160: UserWarning: [16:46:46] WARNING: /workspace/src/common/error_msg.cc:27: The tree method `gpu_hist` is deprecated since 2.0.0. To use GPU training, set the `device` parameter to CUDA instead.\n",
      "\n",
      "    E.g. tree_method = \"hist\", device = \"cuda\"\n",
      "\n",
      "  warnings.warn(smsg, UserWarning)\n",
      "/cis/home/charr165/vscode_projects/HAIM/.venv/lib/python3.10/site-packages/xgboost/core.py:160: UserWarning: [16:46:47] WARNING: /workspace/src/common/error_msg.cc:27: The tree method `gpu_hist` is deprecated since 2.0.0. To use GPU training, set the `device` parameter to CUDA instead.\n",
      "\n",
      "    E.g. tree_method = \"hist\", device = \"cuda\"\n",
      "\n",
      "  warnings.warn(smsg, UserWarning)\n",
      "/cis/home/charr165/vscode_projects/HAIM/.venv/lib/python3.10/site-packages/xgboost/core.py:160: UserWarning: [16:46:48] WARNING: /workspace/src/common/error_msg.cc:27: The tree method `gpu_hist` is deprecated since 2.0.0. To use GPU training, set the `device` parameter to CUDA instead.\n",
      "\n",
      "    E.g. tree_method = \"hist\", device = \"cuda\"\n",
      "\n",
      "  warnings.warn(smsg, UserWarning)\n",
      "/cis/home/charr165/vscode_projects/HAIM/.venv/lib/python3.10/site-packages/xgboost/core.py:160: UserWarning: [16:46:49] WARNING: /workspace/src/common/error_msg.cc:27: The tree method `gpu_hist` is deprecated since 2.0.0. To use GPU training, set the `device` parameter to CUDA instead.\n",
      "\n",
      "    E.g. tree_method = \"hist\", device = \"cuda\"\n",
      "\n",
      "  warnings.warn(smsg, UserWarning)\n"
     ]
    },
    {
     "name": "stdout",
     "output_type": "stream",
     "text": [
      "AUC (micro): 0.6941886503724302\n",
      "AUC (macro): 0.6310456193884256\n",
      "AUC (weighted): 0.6573607075090783\n",
      "F1 Score (macro): 0.4303015517528131\n"
     ]
    }
   ],
   "source": [
    "est = MultiOutputClassifier(xgb.XGBClassifier(verbosity=2, seed=42,\n",
    "                                                  tree_method='gpu_hist', gpu_id=1,\n",
    "                                                  eval_metric='logloss', n_jobs=32))\n",
    "est.fit(X_train, y_train)\n",
    "y_pred_prob_test = est.predict_proba(X_test)\n",
    "y_pred_test = est.predict(X_test)\n",
    "# Evaluate\n",
    "_ = evaluate_model(y_test, y_pred_test, y_pred_prob_test)"
   ]
  },
  {
   "cell_type": "code",
   "execution_count": null,
   "metadata": {},
   "outputs": [],
   "source": [
    "est = xgb.XGBClassifier(verbosity=2, scale_pos_weight=(len(y_train) - sum(y_train)) / sum(y_train), seed=0,\n",
    "                             device=\"cuda\", n_jobs=32)\n",
    "est.fit(X_train, y_train)\n",
    "\n",
    "y_pred_test = est.predict(X_test)\n",
    "y_pred_prob_test = est.predict_proba(X_test)\n",
    "\n",
    "# Evaluate\n",
    "_ = evaluate_model(y_test, y_pred_test, y_pred_prob_test[:,1])"
   ]
  },
  {
   "cell_type": "code",
   "execution_count": null,
   "metadata": {},
   "outputs": [],
   "source": [
    "est.feature_importances_\n",
    "\n",
    "# Get the top 10 most important features\n",
    "indices = np.argsort(est.feature_importances_)[::-1]\n",
    "top_indices = indices[:100]\n",
    "print('Feature ranking:')\n",
    "for i in range(50):\n",
    "    print('%d. %s (%f)' % (i + 1, col_names[top_indices[i]], est.feature_importances_[top_indices[i]]))"
   ]
  },
  {
   "cell_type": "code",
   "execution_count": null,
   "metadata": {},
   "outputs": [],
   "source": [
    "# print(\"TRAIN\")\n",
    "# _ = evaluate_model(y_train, y_pred_train, y_pred_prob_train)\n",
    "\n",
    "print(f\"Task: {base_name}\")\n",
    "print(f\"Seed: {seed}\")\n",
    "\n",
    "modals = \"ts\"\n",
    "\n",
    "if include_notes:\n",
    "    modals += \"+text\"\n",
    "\n",
    "if include_cxr:\n",
    "    modals += \"+cxr\"\n",
    "\n",
    "if include_ecg:\n",
    "    modals += \"+ecg\"\n",
    "\n",
    "print(f\"Modals: {modals}\")\n",
    "\n",
    "print(\"\\n\\nTEST\")\n",
    "_ = evaluate_model(y_test, y_pred_test, y_pred_prob_test)"
   ]
  }
 ],
 "metadata": {
  "kernelspec": {
   "display_name": ".venv",
   "language": "python",
   "name": "python3"
  },
  "language_info": {
   "codemirror_mode": {
    "name": "ipython",
    "version": 3
   },
   "file_extension": ".py",
   "mimetype": "text/x-python",
   "name": "python",
   "nbconvert_exporter": "python",
   "pygments_lexer": "ipython3",
   "version": "3.10.12"
  }
 },
 "nbformat": 4,
 "nbformat_minor": 2
}
